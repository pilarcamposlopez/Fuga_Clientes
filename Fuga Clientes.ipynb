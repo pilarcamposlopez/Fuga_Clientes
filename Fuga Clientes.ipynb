{
 "cells": [
  {
   "cell_type": "markdown",
   "metadata": {},
   "source": [
    "<font color=\"#CA3532\"><h1 align=\"left\">Fuga Clientes</h1></font>\n",
    "<font color=\"#6E6E6E\"><h3 align=\"right\">Pilar Campos López</h3></font> \n",
    "<font color=\"#6E6E6E\"><h4 align=\"right\"> pilarcamposlopez@gmail.com  </h4></font> "
   ]
  },
  {
   "cell_type": "markdown",
   "metadata": {},
   "source": [
    "## IMPORTACIÓN DE LIBRERÍAS"
   ]
  },
  {
   "cell_type": "code",
   "execution_count": 1,
   "metadata": {},
   "outputs": [],
   "source": [
    "import pandas as pd\n",
    "import numpy as np\n",
    "import matplotlib.pyplot as plt\n",
    "import seaborn as sns"
   ]
  },
  {
   "cell_type": "code",
   "execution_count": 2,
   "metadata": {},
   "outputs": [],
   "source": [
    "df_cons=pd.read_csv('./Datasets/fuga_clientes_empresa_telefonica_construccion.csv')\n",
    "df_explo=pd.read_csv('./Datasets/fuga_clientes_empresa_telefonica_explotacion.csv')"
   ]
  },
  {
   "cell_type": "markdown",
   "metadata": {},
   "source": [
    "## Tomamos conciencia del data set"
   ]
  },
  {
   "cell_type": "code",
   "execution_count": 3,
   "metadata": {},
   "outputs": [
    {
     "name": "stdout",
     "output_type": "stream",
     "text": [
      "Tamaño dataset del dataset (1111, 16)\n",
      "Número de variables/predictores (columnas) 15\n",
      "Número de registros (instancias/filas) 1111\n"
     ]
    }
   ],
   "source": [
    "print(\"Tamaño dataset del dataset\", df_cons.shape)\n",
    "print(\"Número de variables/predictores (columnas)\", df_cons.shape[1]-1)\n",
    "print(\"Número de registros (instancias/filas)\", df_cons.shape[0])"
   ]
  },
  {
   "cell_type": "code",
   "execution_count": 4,
   "metadata": {},
   "outputs": [
    {
     "name": "stdout",
     "output_type": "stream",
     "text": [
      "Tamaño dataset del dataset (289, 16)\n",
      "Número de variables/predictores (columnas) 15\n",
      "Número de registros (instancias/filas) 289\n"
     ]
    }
   ],
   "source": [
    "print(\"Tamaño dataset del dataset\", df_explo.shape)\n",
    "print(\"Número de variables/predictores (columnas)\", df_explo.shape[1]-1)\n",
    "print(\"Número de registros (instancias/filas)\", df_explo.shape[0])"
   ]
  },
  {
   "cell_type": "code",
   "execution_count": 5,
   "metadata": {},
   "outputs": [
    {
     "data": {
      "text/html": [
       "<div>\n",
       "<style scoped>\n",
       "    .dataframe tbody tr th:only-of-type {\n",
       "        vertical-align: middle;\n",
       "    }\n",
       "\n",
       "    .dataframe tbody tr th {\n",
       "        vertical-align: top;\n",
       "    }\n",
       "\n",
       "    .dataframe thead th {\n",
       "        text-align: right;\n",
       "    }\n",
       "</style>\n",
       "<table border=\"1\" class=\"dataframe\">\n",
       "  <thead>\n",
       "    <tr style=\"text-align: right;\">\n",
       "      <th></th>\n",
       "      <th>Customer ID</th>\n",
       "      <th>network_age</th>\n",
       "      <th>Customer tenure in month</th>\n",
       "      <th>Total Spend in Months 1 and 2 of 2017</th>\n",
       "      <th>Total SMS Spend</th>\n",
       "      <th>Total Data Spend</th>\n",
       "      <th>Total Data Consumption</th>\n",
       "      <th>Total Unique Calls</th>\n",
       "      <th>Total Onnet spend</th>\n",
       "      <th>Total Offnet spend</th>\n",
       "      <th>Total Call centre complaint calls</th>\n",
       "      <th>Network type subscription in Month 1</th>\n",
       "      <th>Network type subscription in Month 2</th>\n",
       "      <th>Most Loved Competitor network in in Month 1</th>\n",
       "      <th>Most Loved Competitor network in in Month 2</th>\n",
       "      <th>Churn Status</th>\n",
       "    </tr>\n",
       "  </thead>\n",
       "  <tbody>\n",
       "    <tr>\n",
       "      <th>0</th>\n",
       "      <td>ADF0039</td>\n",
       "      <td>123</td>\n",
       "      <td>4.10</td>\n",
       "      <td>76.7140</td>\n",
       "      <td>0.00</td>\n",
       "      <td>1.25</td>\n",
       "      <td>1.4951</td>\n",
       "      <td>14</td>\n",
       "      <td>564</td>\n",
       "      <td>6408</td>\n",
       "      <td>2</td>\n",
       "      <td>2G</td>\n",
       "      <td>2G</td>\n",
       "      <td>Uxaa</td>\n",
       "      <td>Mango</td>\n",
       "      <td>0</td>\n",
       "    </tr>\n",
       "    <tr>\n",
       "      <th>1</th>\n",
       "      <td>ADF0041</td>\n",
       "      <td>1316</td>\n",
       "      <td>43.87</td>\n",
       "      <td>98.8904</td>\n",
       "      <td>4.14</td>\n",
       "      <td>1.25</td>\n",
       "      <td>1.0244</td>\n",
       "      <td>27</td>\n",
       "      <td>1626</td>\n",
       "      <td>4373</td>\n",
       "      <td>1</td>\n",
       "      <td>2G</td>\n",
       "      <td>2G</td>\n",
       "      <td>Uxaa</td>\n",
       "      <td>Mango</td>\n",
       "      <td>0</td>\n",
       "    </tr>\n",
       "    <tr>\n",
       "      <th>2</th>\n",
       "      <td>ADF0051</td>\n",
       "      <td>2385</td>\n",
       "      <td>79.50</td>\n",
       "      <td>372.6300</td>\n",
       "      <td>3.51</td>\n",
       "      <td>1.25</td>\n",
       "      <td>6.0898</td>\n",
       "      <td>119</td>\n",
       "      <td>10411</td>\n",
       "      <td>22039</td>\n",
       "      <td>1</td>\n",
       "      <td>2G</td>\n",
       "      <td>2G</td>\n",
       "      <td>Weematel</td>\n",
       "      <td>Mango</td>\n",
       "      <td>0</td>\n",
       "    </tr>\n",
       "    <tr>\n",
       "      <th>3</th>\n",
       "      <td>ADF0059</td>\n",
       "      <td>1614</td>\n",
       "      <td>53.80</td>\n",
       "      <td>530.2000</td>\n",
       "      <td>6.85</td>\n",
       "      <td>1.25</td>\n",
       "      <td>3.3447</td>\n",
       "      <td>69</td>\n",
       "      <td>6822</td>\n",
       "      <td>6274</td>\n",
       "      <td>1</td>\n",
       "      <td>2G</td>\n",
       "      <td>2G</td>\n",
       "      <td>0</td>\n",
       "      <td>Mango</td>\n",
       "      <td>0</td>\n",
       "    </tr>\n",
       "    <tr>\n",
       "      <th>4</th>\n",
       "      <td>ADF0060</td>\n",
       "      <td>2175</td>\n",
       "      <td>72.50</td>\n",
       "      <td>554.1300</td>\n",
       "      <td>6.99</td>\n",
       "      <td>153.75</td>\n",
       "      <td>673204.0342</td>\n",
       "      <td>33</td>\n",
       "      <td>3387</td>\n",
       "      <td>7241</td>\n",
       "      <td>1</td>\n",
       "      <td>2G</td>\n",
       "      <td>3G</td>\n",
       "      <td>Weematel</td>\n",
       "      <td>Mango</td>\n",
       "      <td>0</td>\n",
       "    </tr>\n",
       "  </tbody>\n",
       "</table>\n",
       "</div>"
      ],
      "text/plain": [
       "  Customer ID  network_age  Customer tenure in month  \\\n",
       "0     ADF0039          123                      4.10   \n",
       "1     ADF0041         1316                     43.87   \n",
       "2     ADF0051         2385                     79.50   \n",
       "3     ADF0059         1614                     53.80   \n",
       "4     ADF0060         2175                     72.50   \n",
       "\n",
       "   Total Spend in Months 1 and 2 of 2017  Total SMS Spend  Total Data Spend  \\\n",
       "0                                76.7140             0.00              1.25   \n",
       "1                                98.8904             4.14              1.25   \n",
       "2                               372.6300             3.51              1.25   \n",
       "3                               530.2000             6.85              1.25   \n",
       "4                               554.1300             6.99            153.75   \n",
       "\n",
       "   Total Data Consumption  Total Unique Calls  Total Onnet spend  \\\n",
       "0                  1.4951                  14                564   \n",
       "1                  1.0244                  27               1626   \n",
       "2                  6.0898                 119              10411   \n",
       "3                  3.3447                  69               6822   \n",
       "4             673204.0342                  33               3387   \n",
       "\n",
       "   Total Offnet spend  Total Call centre complaint calls  \\\n",
       "0                6408                                  2   \n",
       "1                4373                                  1   \n",
       "2               22039                                  1   \n",
       "3                6274                                  1   \n",
       "4                7241                                  1   \n",
       "\n",
       "  Network type subscription in Month 1 Network type subscription in Month 2  \\\n",
       "0                                   2G                                   2G   \n",
       "1                                   2G                                   2G   \n",
       "2                                   2G                                   2G   \n",
       "3                                   2G                                   2G   \n",
       "4                                   2G                                   3G   \n",
       "\n",
       "  Most Loved Competitor network in in Month 1  \\\n",
       "0                                        Uxaa   \n",
       "1                                        Uxaa   \n",
       "2                                    Weematel   \n",
       "3                                           0   \n",
       "4                                    Weematel   \n",
       "\n",
       "  Most Loved Competitor network in in Month 2  Churn Status  \n",
       "0                                       Mango             0  \n",
       "1                                       Mango             0  \n",
       "2                                       Mango             0  \n",
       "3                                       Mango             0  \n",
       "4                                       Mango             0  "
      ]
     },
     "execution_count": 5,
     "metadata": {},
     "output_type": "execute_result"
    }
   ],
   "source": [
    "df_cons.head()"
   ]
  },
  {
   "cell_type": "markdown",
   "metadata": {},
   "source": [
    "Tomamos conciencia del tipo de variables que tenemos en el dataset. Como podemos observar disponemos de enteros, floats y objects que tendremos que tratar de forma independiente"
   ]
  },
  {
   "cell_type": "code",
   "execution_count": 6,
   "metadata": {},
   "outputs": [
    {
     "data": {
      "text/html": [
       "<div>\n",
       "<style scoped>\n",
       "    .dataframe tbody tr th:only-of-type {\n",
       "        vertical-align: middle;\n",
       "    }\n",
       "\n",
       "    .dataframe tbody tr th {\n",
       "        vertical-align: top;\n",
       "    }\n",
       "\n",
       "    .dataframe thead th {\n",
       "        text-align: right;\n",
       "    }\n",
       "</style>\n",
       "<table border=\"1\" class=\"dataframe\">\n",
       "  <thead>\n",
       "    <tr style=\"text-align: right;\">\n",
       "      <th></th>\n",
       "      <th>Customer ID</th>\n",
       "      <th>network_age</th>\n",
       "      <th>Customer tenure in month</th>\n",
       "      <th>Total Spend in Months 1 and 2 of 2017</th>\n",
       "      <th>Total SMS Spend</th>\n",
       "      <th>Total Data Spend</th>\n",
       "      <th>Total Data Consumption</th>\n",
       "      <th>Total Unique Calls</th>\n",
       "      <th>Total Onnet spend</th>\n",
       "      <th>Total Offnet spend</th>\n",
       "      <th>Total Call centre complaint calls</th>\n",
       "      <th>Network type subscription in Month 1</th>\n",
       "      <th>Network type subscription in Month 2</th>\n",
       "      <th>Most Loved Competitor network in in Month 1</th>\n",
       "      <th>Most Loved Competitor network in in Month 2</th>\n",
       "      <th>Churn Status</th>\n",
       "    </tr>\n",
       "  </thead>\n",
       "  <tbody>\n",
       "    <tr>\n",
       "      <th>0</th>\n",
       "      <td>ADF1330</td>\n",
       "      <td>888</td>\n",
       "      <td>29.60</td>\n",
       "      <td>878.650</td>\n",
       "      <td>8.76</td>\n",
       "      <td>47.50</td>\n",
       "      <td>115805.2080</td>\n",
       "      <td>237</td>\n",
       "      <td>16570</td>\n",
       "      <td>19751</td>\n",
       "      <td>1</td>\n",
       "      <td>Other</td>\n",
       "      <td>Other</td>\n",
       "      <td>Weematel</td>\n",
       "      <td>Uxaa</td>\n",
       "      <td>NaN</td>\n",
       "    </tr>\n",
       "    <tr>\n",
       "      <th>1</th>\n",
       "      <td>ADF1331</td>\n",
       "      <td>120</td>\n",
       "      <td>4.00</td>\n",
       "      <td>878.720</td>\n",
       "      <td>294.00</td>\n",
       "      <td>6.25</td>\n",
       "      <td>696816.2705</td>\n",
       "      <td>77</td>\n",
       "      <td>2208</td>\n",
       "      <td>419</td>\n",
       "      <td>3</td>\n",
       "      <td>Other</td>\n",
       "      <td>Other</td>\n",
       "      <td>Mango</td>\n",
       "      <td>Uxaa</td>\n",
       "      <td>NaN</td>\n",
       "    </tr>\n",
       "    <tr>\n",
       "      <th>2</th>\n",
       "      <td>ADF1345</td>\n",
       "      <td>3809</td>\n",
       "      <td>126.97</td>\n",
       "      <td>898.490</td>\n",
       "      <td>15.75</td>\n",
       "      <td>0.00</td>\n",
       "      <td>464885.6963</td>\n",
       "      <td>308</td>\n",
       "      <td>762</td>\n",
       "      <td>6850</td>\n",
       "      <td>2</td>\n",
       "      <td>Other</td>\n",
       "      <td>Other</td>\n",
       "      <td>PQza</td>\n",
       "      <td>Uxaa</td>\n",
       "      <td>NaN</td>\n",
       "    </tr>\n",
       "    <tr>\n",
       "      <th>3</th>\n",
       "      <td>ADF1349</td>\n",
       "      <td>108</td>\n",
       "      <td>3.60</td>\n",
       "      <td>904.322</td>\n",
       "      <td>155.66</td>\n",
       "      <td>80.00</td>\n",
       "      <td>799300.8506</td>\n",
       "      <td>84</td>\n",
       "      <td>27197</td>\n",
       "      <td>1790</td>\n",
       "      <td>1</td>\n",
       "      <td>Other</td>\n",
       "      <td>Other</td>\n",
       "      <td>Uxaa</td>\n",
       "      <td>Uxaa</td>\n",
       "      <td>NaN</td>\n",
       "    </tr>\n",
       "    <tr>\n",
       "      <th>4</th>\n",
       "      <td>ADF1363</td>\n",
       "      <td>795</td>\n",
       "      <td>26.50</td>\n",
       "      <td>920.142</td>\n",
       "      <td>0.00</td>\n",
       "      <td>0.00</td>\n",
       "      <td>47665.3779</td>\n",
       "      <td>1582</td>\n",
       "      <td>0</td>\n",
       "      <td>2441</td>\n",
       "      <td>2</td>\n",
       "      <td>Other</td>\n",
       "      <td>Other</td>\n",
       "      <td>Mango</td>\n",
       "      <td>Uxaa</td>\n",
       "      <td>NaN</td>\n",
       "    </tr>\n",
       "  </tbody>\n",
       "</table>\n",
       "</div>"
      ],
      "text/plain": [
       "  Customer ID  network_age  Customer tenure in month  \\\n",
       "0     ADF1330          888                     29.60   \n",
       "1     ADF1331          120                      4.00   \n",
       "2     ADF1345         3809                    126.97   \n",
       "3     ADF1349          108                      3.60   \n",
       "4     ADF1363          795                     26.50   \n",
       "\n",
       "   Total Spend in Months 1 and 2 of 2017  Total SMS Spend  Total Data Spend  \\\n",
       "0                                878.650             8.76             47.50   \n",
       "1                                878.720           294.00              6.25   \n",
       "2                                898.490            15.75              0.00   \n",
       "3                                904.322           155.66             80.00   \n",
       "4                                920.142             0.00              0.00   \n",
       "\n",
       "   Total Data Consumption  Total Unique Calls  Total Onnet spend  \\\n",
       "0             115805.2080                 237              16570   \n",
       "1             696816.2705                  77               2208   \n",
       "2             464885.6963                 308                762   \n",
       "3             799300.8506                  84              27197   \n",
       "4              47665.3779                1582                  0   \n",
       "\n",
       "   Total Offnet spend  Total Call centre complaint calls  \\\n",
       "0               19751                                  1   \n",
       "1                 419                                  3   \n",
       "2                6850                                  2   \n",
       "3                1790                                  1   \n",
       "4                2441                                  2   \n",
       "\n",
       "  Network type subscription in Month 1 Network type subscription in Month 2  \\\n",
       "0                                Other                                Other   \n",
       "1                                Other                                Other   \n",
       "2                                Other                                Other   \n",
       "3                                Other                                Other   \n",
       "4                                Other                                Other   \n",
       "\n",
       "  Most Loved Competitor network in in Month 1  \\\n",
       "0                                    Weematel   \n",
       "1                                       Mango   \n",
       "2                                        PQza   \n",
       "3                                        Uxaa   \n",
       "4                                       Mango   \n",
       "\n",
       "  Most Loved Competitor network in in Month 2  Churn Status  \n",
       "0                                        Uxaa           NaN  \n",
       "1                                        Uxaa           NaN  \n",
       "2                                        Uxaa           NaN  \n",
       "3                                        Uxaa           NaN  \n",
       "4                                        Uxaa           NaN  "
      ]
     },
     "execution_count": 6,
     "metadata": {},
     "output_type": "execute_result"
    }
   ],
   "source": [
    "df_explo.head()"
   ]
  },
  {
   "cell_type": "code",
   "execution_count": 7,
   "metadata": {},
   "outputs": [
    {
     "data": {
      "text/plain": [
       "Customer ID                                     object\n",
       "network_age                                      int64\n",
       "Customer tenure in month                       float64\n",
       "Total Spend in Months 1 and 2 of 2017          float64\n",
       "Total SMS Spend                                float64\n",
       "Total Data Spend                               float64\n",
       "Total Data Consumption                         float64\n",
       "Total Unique Calls                               int64\n",
       "Total Onnet spend                                int64\n",
       "Total Offnet spend                               int64\n",
       "Total Call centre complaint calls                int64\n",
       "Network type subscription in Month 1            object\n",
       "Network type subscription in Month 2            object\n",
       "Most Loved Competitor network in in Month 1     object\n",
       "Most Loved Competitor network in in Month 2     object\n",
       "Churn Status                                     int64\n",
       "dtype: object"
      ]
     },
     "execution_count": 7,
     "metadata": {},
     "output_type": "execute_result"
    }
   ],
   "source": [
    "df_cons.dtypes"
   ]
  },
  {
   "cell_type": "code",
   "execution_count": 8,
   "metadata": {},
   "outputs": [
    {
     "data": {
      "text/plain": [
       "Customer ID                                     object\n",
       "network_age                                      int64\n",
       "Customer tenure in month                       float64\n",
       "Total Spend in Months 1 and 2 of 2017          float64\n",
       "Total SMS Spend                                float64\n",
       "Total Data Spend                               float64\n",
       "Total Data Consumption                         float64\n",
       "Total Unique Calls                               int64\n",
       "Total Onnet spend                                int64\n",
       "Total Offnet spend                               int64\n",
       "Total Call centre complaint calls                int64\n",
       "Network type subscription in Month 1            object\n",
       "Network type subscription in Month 2            object\n",
       "Most Loved Competitor network in in Month 1     object\n",
       "Most Loved Competitor network in in Month 2     object\n",
       "Churn Status                                   float64\n",
       "dtype: object"
      ]
     },
     "execution_count": 8,
     "metadata": {},
     "output_type": "execute_result"
    }
   ],
   "source": [
    "df_explo.dtypes"
   ]
  },
  {
   "cell_type": "markdown",
   "metadata": {},
   "source": [
    "Vemos unas estadísticas básicas del data set"
   ]
  },
  {
   "cell_type": "code",
   "execution_count": 9,
   "metadata": {
    "scrolled": true
   },
   "outputs": [
    {
     "data": {
      "text/html": [
       "<div>\n",
       "<style scoped>\n",
       "    .dataframe tbody tr th:only-of-type {\n",
       "        vertical-align: middle;\n",
       "    }\n",
       "\n",
       "    .dataframe tbody tr th {\n",
       "        vertical-align: top;\n",
       "    }\n",
       "\n",
       "    .dataframe thead th {\n",
       "        text-align: right;\n",
       "    }\n",
       "</style>\n",
       "<table border=\"1\" class=\"dataframe\">\n",
       "  <thead>\n",
       "    <tr style=\"text-align: right;\">\n",
       "      <th></th>\n",
       "      <th>Customer ID</th>\n",
       "      <th>network_age</th>\n",
       "      <th>Customer tenure in month</th>\n",
       "      <th>Total Spend in Months 1 and 2 of 2017</th>\n",
       "      <th>Total SMS Spend</th>\n",
       "      <th>Total Data Spend</th>\n",
       "      <th>Total Data Consumption</th>\n",
       "      <th>Total Unique Calls</th>\n",
       "      <th>Total Onnet spend</th>\n",
       "      <th>Total Offnet spend</th>\n",
       "      <th>Total Call centre complaint calls</th>\n",
       "      <th>Network type subscription in Month 1</th>\n",
       "      <th>Network type subscription in Month 2</th>\n",
       "      <th>Most Loved Competitor network in in Month 1</th>\n",
       "      <th>Most Loved Competitor network in in Month 2</th>\n",
       "      <th>Churn Status</th>\n",
       "    </tr>\n",
       "  </thead>\n",
       "  <tbody>\n",
       "    <tr>\n",
       "      <th>count</th>\n",
       "      <td>1111</td>\n",
       "      <td>1111.000000</td>\n",
       "      <td>1111.000000</td>\n",
       "      <td>1111.000000</td>\n",
       "      <td>1111.000000</td>\n",
       "      <td>1111.000000</td>\n",
       "      <td>1.111000e+03</td>\n",
       "      <td>1111.000000</td>\n",
       "      <td>1111.000000</td>\n",
       "      <td>1111.000000</td>\n",
       "      <td>1111.000000</td>\n",
       "      <td>1111</td>\n",
       "      <td>1089</td>\n",
       "      <td>1110</td>\n",
       "      <td>1110</td>\n",
       "      <td>1111.000000</td>\n",
       "    </tr>\n",
       "    <tr>\n",
       "      <th>unique</th>\n",
       "      <td>1111</td>\n",
       "      <td>NaN</td>\n",
       "      <td>NaN</td>\n",
       "      <td>NaN</td>\n",
       "      <td>NaN</td>\n",
       "      <td>NaN</td>\n",
       "      <td>NaN</td>\n",
       "      <td>NaN</td>\n",
       "      <td>NaN</td>\n",
       "      <td>NaN</td>\n",
       "      <td>NaN</td>\n",
       "      <td>3</td>\n",
       "      <td>3</td>\n",
       "      <td>7</td>\n",
       "      <td>6</td>\n",
       "      <td>NaN</td>\n",
       "    </tr>\n",
       "    <tr>\n",
       "      <th>top</th>\n",
       "      <td>ADF1036</td>\n",
       "      <td>NaN</td>\n",
       "      <td>NaN</td>\n",
       "      <td>NaN</td>\n",
       "      <td>NaN</td>\n",
       "      <td>NaN</td>\n",
       "      <td>NaN</td>\n",
       "      <td>NaN</td>\n",
       "      <td>NaN</td>\n",
       "      <td>NaN</td>\n",
       "      <td>NaN</td>\n",
       "      <td>3G</td>\n",
       "      <td>3G</td>\n",
       "      <td>PQza</td>\n",
       "      <td>Uxaa</td>\n",
       "      <td>NaN</td>\n",
       "    </tr>\n",
       "    <tr>\n",
       "      <th>freq</th>\n",
       "      <td>1</td>\n",
       "      <td>NaN</td>\n",
       "      <td>NaN</td>\n",
       "      <td>NaN</td>\n",
       "      <td>NaN</td>\n",
       "      <td>NaN</td>\n",
       "      <td>NaN</td>\n",
       "      <td>NaN</td>\n",
       "      <td>NaN</td>\n",
       "      <td>NaN</td>\n",
       "      <td>NaN</td>\n",
       "      <td>636</td>\n",
       "      <td>634</td>\n",
       "      <td>273</td>\n",
       "      <td>632</td>\n",
       "      <td>NaN</td>\n",
       "    </tr>\n",
       "    <tr>\n",
       "      <th>mean</th>\n",
       "      <td>NaN</td>\n",
       "      <td>1512.755176</td>\n",
       "      <td>50.425257</td>\n",
       "      <td>834.722058</td>\n",
       "      <td>30.659469</td>\n",
       "      <td>67.214968</td>\n",
       "      <td>2.341847e+06</td>\n",
       "      <td>202.863186</td>\n",
       "      <td>6060.639964</td>\n",
       "      <td>16259.369037</td>\n",
       "      <td>1.985599</td>\n",
       "      <td>NaN</td>\n",
       "      <td>NaN</td>\n",
       "      <td>NaN</td>\n",
       "      <td>NaN</td>\n",
       "      <td>0.485149</td>\n",
       "    </tr>\n",
       "    <tr>\n",
       "      <th>std</th>\n",
       "      <td>NaN</td>\n",
       "      <td>1271.675167</td>\n",
       "      <td>42.389049</td>\n",
       "      <td>1317.299763</td>\n",
       "      <td>58.605916</td>\n",
       "      <td>323.572908</td>\n",
       "      <td>7.340746e+06</td>\n",
       "      <td>300.182565</td>\n",
       "      <td>11965.611198</td>\n",
       "      <td>37216.839277</td>\n",
       "      <td>2.496442</td>\n",
       "      <td>NaN</td>\n",
       "      <td>NaN</td>\n",
       "      <td>NaN</td>\n",
       "      <td>NaN</td>\n",
       "      <td>0.500004</td>\n",
       "    </tr>\n",
       "    <tr>\n",
       "      <th>min</th>\n",
       "      <td>NaN</td>\n",
       "      <td>-5.000000</td>\n",
       "      <td>-0.170000</td>\n",
       "      <td>4.910000</td>\n",
       "      <td>0.000000</td>\n",
       "      <td>0.000000</td>\n",
       "      <td>5.860000e-02</td>\n",
       "      <td>1.000000</td>\n",
       "      <td>0.000000</td>\n",
       "      <td>0.000000</td>\n",
       "      <td>1.000000</td>\n",
       "      <td>NaN</td>\n",
       "      <td>NaN</td>\n",
       "      <td>NaN</td>\n",
       "      <td>NaN</td>\n",
       "      <td>0.000000</td>\n",
       "    </tr>\n",
       "    <tr>\n",
       "      <th>25%</th>\n",
       "      <td>NaN</td>\n",
       "      <td>381.500000</td>\n",
       "      <td>12.715000</td>\n",
       "      <td>172.292000</td>\n",
       "      <td>3.480000</td>\n",
       "      <td>1.250000</td>\n",
       "      <td>1.417291e+03</td>\n",
       "      <td>18.000000</td>\n",
       "      <td>36.000000</td>\n",
       "      <td>1107.500000</td>\n",
       "      <td>1.000000</td>\n",
       "      <td>NaN</td>\n",
       "      <td>NaN</td>\n",
       "      <td>NaN</td>\n",
       "      <td>NaN</td>\n",
       "      <td>0.000000</td>\n",
       "    </tr>\n",
       "    <tr>\n",
       "      <th>50%</th>\n",
       "      <td>NaN</td>\n",
       "      <td>1244.000000</td>\n",
       "      <td>41.470000</td>\n",
       "      <td>615.730000</td>\n",
       "      <td>14.000000</td>\n",
       "      <td>11.250000</td>\n",
       "      <td>1.485742e+05</td>\n",
       "      <td>82.000000</td>\n",
       "      <td>1482.000000</td>\n",
       "      <td>4176.000000</td>\n",
       "      <td>1.000000</td>\n",
       "      <td>NaN</td>\n",
       "      <td>NaN</td>\n",
       "      <td>NaN</td>\n",
       "      <td>NaN</td>\n",
       "      <td>0.000000</td>\n",
       "    </tr>\n",
       "    <tr>\n",
       "      <th>75%</th>\n",
       "      <td>NaN</td>\n",
       "      <td>2290.500000</td>\n",
       "      <td>76.350000</td>\n",
       "      <td>1021.236600</td>\n",
       "      <td>31.635000</td>\n",
       "      <td>50.625000</td>\n",
       "      <td>1.303951e+06</td>\n",
       "      <td>251.000000</td>\n",
       "      <td>6678.000000</td>\n",
       "      <td>13321.000000</td>\n",
       "      <td>2.000000</td>\n",
       "      <td>NaN</td>\n",
       "      <td>NaN</td>\n",
       "      <td>NaN</td>\n",
       "      <td>NaN</td>\n",
       "      <td>1.000000</td>\n",
       "    </tr>\n",
       "    <tr>\n",
       "      <th>max</th>\n",
       "      <td>NaN</td>\n",
       "      <td>5451.000000</td>\n",
       "      <td>181.700000</td>\n",
       "      <td>24438.830000</td>\n",
       "      <td>665.000000</td>\n",
       "      <td>8295.000000</td>\n",
       "      <td>9.945640e+07</td>\n",
       "      <td>2184.000000</td>\n",
       "      <td>146344.000000</td>\n",
       "      <td>384648.000000</td>\n",
       "      <td>49.000000</td>\n",
       "      <td>NaN</td>\n",
       "      <td>NaN</td>\n",
       "      <td>NaN</td>\n",
       "      <td>NaN</td>\n",
       "      <td>1.000000</td>\n",
       "    </tr>\n",
       "  </tbody>\n",
       "</table>\n",
       "</div>"
      ],
      "text/plain": [
       "       Customer ID  network_age  Customer tenure in month  \\\n",
       "count         1111  1111.000000               1111.000000   \n",
       "unique        1111          NaN                       NaN   \n",
       "top        ADF1036          NaN                       NaN   \n",
       "freq             1          NaN                       NaN   \n",
       "mean           NaN  1512.755176                 50.425257   \n",
       "std            NaN  1271.675167                 42.389049   \n",
       "min            NaN    -5.000000                 -0.170000   \n",
       "25%            NaN   381.500000                 12.715000   \n",
       "50%            NaN  1244.000000                 41.470000   \n",
       "75%            NaN  2290.500000                 76.350000   \n",
       "max            NaN  5451.000000                181.700000   \n",
       "\n",
       "        Total Spend in Months 1 and 2 of 2017  Total SMS Spend  \\\n",
       "count                             1111.000000      1111.000000   \n",
       "unique                                    NaN              NaN   \n",
       "top                                       NaN              NaN   \n",
       "freq                                      NaN              NaN   \n",
       "mean                               834.722058        30.659469   \n",
       "std                               1317.299763        58.605916   \n",
       "min                                  4.910000         0.000000   \n",
       "25%                                172.292000         3.480000   \n",
       "50%                                615.730000        14.000000   \n",
       "75%                               1021.236600        31.635000   \n",
       "max                              24438.830000       665.000000   \n",
       "\n",
       "        Total Data Spend  Total Data Consumption  Total Unique Calls  \\\n",
       "count        1111.000000            1.111000e+03         1111.000000   \n",
       "unique               NaN                     NaN                 NaN   \n",
       "top                  NaN                     NaN                 NaN   \n",
       "freq                 NaN                     NaN                 NaN   \n",
       "mean           67.214968            2.341847e+06          202.863186   \n",
       "std           323.572908            7.340746e+06          300.182565   \n",
       "min             0.000000            5.860000e-02            1.000000   \n",
       "25%             1.250000            1.417291e+03           18.000000   \n",
       "50%            11.250000            1.485742e+05           82.000000   \n",
       "75%            50.625000            1.303951e+06          251.000000   \n",
       "max          8295.000000            9.945640e+07         2184.000000   \n",
       "\n",
       "        Total Onnet spend  Total Offnet spend  \\\n",
       "count         1111.000000         1111.000000   \n",
       "unique                NaN                 NaN   \n",
       "top                   NaN                 NaN   \n",
       "freq                  NaN                 NaN   \n",
       "mean          6060.639964        16259.369037   \n",
       "std          11965.611198        37216.839277   \n",
       "min              0.000000            0.000000   \n",
       "25%             36.000000         1107.500000   \n",
       "50%           1482.000000         4176.000000   \n",
       "75%           6678.000000        13321.000000   \n",
       "max         146344.000000       384648.000000   \n",
       "\n",
       "        Total Call centre complaint calls  \\\n",
       "count                         1111.000000   \n",
       "unique                                NaN   \n",
       "top                                   NaN   \n",
       "freq                                  NaN   \n",
       "mean                             1.985599   \n",
       "std                              2.496442   \n",
       "min                              1.000000   \n",
       "25%                              1.000000   \n",
       "50%                              1.000000   \n",
       "75%                              2.000000   \n",
       "max                             49.000000   \n",
       "\n",
       "       Network type subscription in Month 1  \\\n",
       "count                                  1111   \n",
       "unique                                    3   \n",
       "top                                      3G   \n",
       "freq                                    636   \n",
       "mean                                    NaN   \n",
       "std                                     NaN   \n",
       "min                                     NaN   \n",
       "25%                                     NaN   \n",
       "50%                                     NaN   \n",
       "75%                                     NaN   \n",
       "max                                     NaN   \n",
       "\n",
       "       Network type subscription in Month 2  \\\n",
       "count                                  1089   \n",
       "unique                                    3   \n",
       "top                                      3G   \n",
       "freq                                    634   \n",
       "mean                                    NaN   \n",
       "std                                     NaN   \n",
       "min                                     NaN   \n",
       "25%                                     NaN   \n",
       "50%                                     NaN   \n",
       "75%                                     NaN   \n",
       "max                                     NaN   \n",
       "\n",
       "       Most Loved Competitor network in in Month 1  \\\n",
       "count                                         1110   \n",
       "unique                                           7   \n",
       "top                                           PQza   \n",
       "freq                                           273   \n",
       "mean                                           NaN   \n",
       "std                                            NaN   \n",
       "min                                            NaN   \n",
       "25%                                            NaN   \n",
       "50%                                            NaN   \n",
       "75%                                            NaN   \n",
       "max                                            NaN   \n",
       "\n",
       "       Most Loved Competitor network in in Month 2  Churn Status  \n",
       "count                                         1110   1111.000000  \n",
       "unique                                           6           NaN  \n",
       "top                                           Uxaa           NaN  \n",
       "freq                                           632           NaN  \n",
       "mean                                           NaN      0.485149  \n",
       "std                                            NaN      0.500004  \n",
       "min                                            NaN      0.000000  \n",
       "25%                                            NaN      0.000000  \n",
       "50%                                            NaN      0.000000  \n",
       "75%                                            NaN      1.000000  \n",
       "max                                            NaN      1.000000  "
      ]
     },
     "execution_count": 9,
     "metadata": {},
     "output_type": "execute_result"
    }
   ],
   "source": [
    "df_cons.describe(include='all')"
   ]
  },
  {
   "cell_type": "markdown",
   "metadata": {},
   "source": [
    "### Valores nulos\n",
    "Comprobamos los valores nulos."
   ]
  },
  {
   "cell_type": "markdown",
   "metadata": {},
   "source": [
    "Creamos una función que nos muestra el número de variables que tenemos, las variables con valores nulos así como el porcenetaje de valores nulos en cada una de las variables."
   ]
  },
  {
   "cell_type": "code",
   "execution_count": 10,
   "metadata": {},
   "outputs": [],
   "source": [
    " def missing_values_table(df): \n",
    "        mis_val = df.isnull().sum() \n",
    "        mis_val_percent = 100 * df.isnull().sum() / len(df) \n",
    "        mis_val_table = pd.concat([mis_val, mis_val_percent], axis=1) \n",
    "        mis_val_table_ren_columns = mis_val_table.rename( columns = {0 : 'Missing Values', 1 : '% of Total Values'}) \n",
    "        mis_val_table_ren_columns = mis_val_table_ren_columns[ mis_val_table_ren_columns.iloc[:,1] != 0].sort_values( '% of Total Values', ascending=False).round(1) \n",
    "        print (\"Your selected dataframe has \" + str(df.shape[1]) + \" columns.\\n\" \"There are \" + str(mis_val_table_ren_columns.shape[0]) + \" columns that have missing values.\") \n",
    "        return mis_val_table_ren_columns \n"
   ]
  },
  {
   "cell_type": "code",
   "execution_count": 11,
   "metadata": {},
   "outputs": [
    {
     "name": "stdout",
     "output_type": "stream",
     "text": [
      "Your selected dataframe has 16 columns.\n",
      "There are 3 columns that have missing values.\n"
     ]
    },
    {
     "data": {
      "text/html": [
       "<div>\n",
       "<style scoped>\n",
       "    .dataframe tbody tr th:only-of-type {\n",
       "        vertical-align: middle;\n",
       "    }\n",
       "\n",
       "    .dataframe tbody tr th {\n",
       "        vertical-align: top;\n",
       "    }\n",
       "\n",
       "    .dataframe thead th {\n",
       "        text-align: right;\n",
       "    }\n",
       "</style>\n",
       "<table border=\"1\" class=\"dataframe\">\n",
       "  <thead>\n",
       "    <tr style=\"text-align: right;\">\n",
       "      <th></th>\n",
       "      <th>Missing Values</th>\n",
       "      <th>% of Total Values</th>\n",
       "    </tr>\n",
       "  </thead>\n",
       "  <tbody>\n",
       "    <tr>\n",
       "      <th>Network type subscription in Month 2</th>\n",
       "      <td>22</td>\n",
       "      <td>2.0</td>\n",
       "    </tr>\n",
       "    <tr>\n",
       "      <th>Most Loved Competitor network in in Month 1</th>\n",
       "      <td>1</td>\n",
       "      <td>0.1</td>\n",
       "    </tr>\n",
       "    <tr>\n",
       "      <th>Most Loved Competitor network in in Month 2</th>\n",
       "      <td>1</td>\n",
       "      <td>0.1</td>\n",
       "    </tr>\n",
       "  </tbody>\n",
       "</table>\n",
       "</div>"
      ],
      "text/plain": [
       "                                             Missing Values  % of Total Values\n",
       "Network type subscription in Month 2                     22                2.0\n",
       "Most Loved Competitor network in in Month 1               1                0.1\n",
       "Most Loved Competitor network in in Month 2               1                0.1"
      ]
     },
     "execution_count": 11,
     "metadata": {},
     "output_type": "execute_result"
    }
   ],
   "source": [
    "missing_values_table(df_cons)"
   ]
  },
  {
   "cell_type": "code",
   "execution_count": 12,
   "metadata": {},
   "outputs": [
    {
     "name": "stdout",
     "output_type": "stream",
     "text": [
      "Your selected dataframe has 16 columns.\n",
      "There are 3 columns that have missing values.\n"
     ]
    },
    {
     "data": {
      "text/html": [
       "<div>\n",
       "<style scoped>\n",
       "    .dataframe tbody tr th:only-of-type {\n",
       "        vertical-align: middle;\n",
       "    }\n",
       "\n",
       "    .dataframe tbody tr th {\n",
       "        vertical-align: top;\n",
       "    }\n",
       "\n",
       "    .dataframe thead th {\n",
       "        text-align: right;\n",
       "    }\n",
       "</style>\n",
       "<table border=\"1\" class=\"dataframe\">\n",
       "  <thead>\n",
       "    <tr style=\"text-align: right;\">\n",
       "      <th></th>\n",
       "      <th>Missing Values</th>\n",
       "      <th>% of Total Values</th>\n",
       "    </tr>\n",
       "  </thead>\n",
       "  <tbody>\n",
       "    <tr>\n",
       "      <th>Churn Status</th>\n",
       "      <td>289</td>\n",
       "      <td>100.0</td>\n",
       "    </tr>\n",
       "    <tr>\n",
       "      <th>Network type subscription in Month 1</th>\n",
       "      <td>175</td>\n",
       "      <td>60.6</td>\n",
       "    </tr>\n",
       "    <tr>\n",
       "      <th>Network type subscription in Month 2</th>\n",
       "      <td>122</td>\n",
       "      <td>42.2</td>\n",
       "    </tr>\n",
       "  </tbody>\n",
       "</table>\n",
       "</div>"
      ],
      "text/plain": [
       "                                      Missing Values  % of Total Values\n",
       "Churn Status                                     289              100.0\n",
       "Network type subscription in Month 1             175               60.6\n",
       "Network type subscription in Month 2             122               42.2"
      ]
     },
     "execution_count": 12,
     "metadata": {},
     "output_type": "execute_result"
    }
   ],
   "source": [
    "missing_values_table(df_explo)"
   ]
  },
  {
   "cell_type": "markdown",
   "metadata": {},
   "source": [
    "Elimino las variables Network type subscription in Month 1\ty Network type subscription in Month 2 ya que tienen muchos missing values en mi el data frame explotación, los elimino tanto en explotación como en construcción."
   ]
  },
  {
   "cell_type": "code",
   "execution_count": 13,
   "metadata": {},
   "outputs": [],
   "source": [
    "df_const=df_cons.drop([\"Network type subscription in Month 1\",\"Network type subscription in Month 2\"],axis=1)"
   ]
  },
  {
   "cell_type": "code",
   "execution_count": 14,
   "metadata": {},
   "outputs": [],
   "source": [
    "df_explo=df_explo.drop([\"Network type subscription in Month 1\",\"Network type subscription in Month 2\"],axis=1)"
   ]
  },
  {
   "cell_type": "code",
   "execution_count": 15,
   "metadata": {},
   "outputs": [
    {
     "name": "stdout",
     "output_type": "stream",
     "text": [
      "Your selected dataframe has 16 columns.\n",
      "There are 3 columns that have missing values.\n"
     ]
    },
    {
     "data": {
      "text/html": [
       "<div>\n",
       "<style scoped>\n",
       "    .dataframe tbody tr th:only-of-type {\n",
       "        vertical-align: middle;\n",
       "    }\n",
       "\n",
       "    .dataframe tbody tr th {\n",
       "        vertical-align: top;\n",
       "    }\n",
       "\n",
       "    .dataframe thead th {\n",
       "        text-align: right;\n",
       "    }\n",
       "</style>\n",
       "<table border=\"1\" class=\"dataframe\">\n",
       "  <thead>\n",
       "    <tr style=\"text-align: right;\">\n",
       "      <th></th>\n",
       "      <th>Missing Values</th>\n",
       "      <th>% of Total Values</th>\n",
       "    </tr>\n",
       "  </thead>\n",
       "  <tbody>\n",
       "    <tr>\n",
       "      <th>Network type subscription in Month 2</th>\n",
       "      <td>22</td>\n",
       "      <td>2.0</td>\n",
       "    </tr>\n",
       "    <tr>\n",
       "      <th>Most Loved Competitor network in in Month 1</th>\n",
       "      <td>1</td>\n",
       "      <td>0.1</td>\n",
       "    </tr>\n",
       "    <tr>\n",
       "      <th>Most Loved Competitor network in in Month 2</th>\n",
       "      <td>1</td>\n",
       "      <td>0.1</td>\n",
       "    </tr>\n",
       "  </tbody>\n",
       "</table>\n",
       "</div>"
      ],
      "text/plain": [
       "                                             Missing Values  % of Total Values\n",
       "Network type subscription in Month 2                     22                2.0\n",
       "Most Loved Competitor network in in Month 1               1                0.1\n",
       "Most Loved Competitor network in in Month 2               1                0.1"
      ]
     },
     "execution_count": 15,
     "metadata": {},
     "output_type": "execute_result"
    }
   ],
   "source": [
    "missing_values_table(df_cons)"
   ]
  },
  {
   "cell_type": "markdown",
   "metadata": {},
   "source": [
    "En el data frame de construcción sigo teniendo missing values en tres variables por lo que los trato. En este caso, y dado que no son muchos los elimino."
   ]
  },
  {
   "cell_type": "code",
   "execution_count": 16,
   "metadata": {},
   "outputs": [],
   "source": [
    "df_cons = df_const.dropna()"
   ]
  },
  {
   "cell_type": "code",
   "execution_count": 17,
   "metadata": {},
   "outputs": [
    {
     "name": "stdout",
     "output_type": "stream",
     "text": [
      "Your selected dataframe has 14 columns.\n",
      "There are 0 columns that have missing values.\n"
     ]
    },
    {
     "data": {
      "text/html": [
       "<div>\n",
       "<style scoped>\n",
       "    .dataframe tbody tr th:only-of-type {\n",
       "        vertical-align: middle;\n",
       "    }\n",
       "\n",
       "    .dataframe tbody tr th {\n",
       "        vertical-align: top;\n",
       "    }\n",
       "\n",
       "    .dataframe thead th {\n",
       "        text-align: right;\n",
       "    }\n",
       "</style>\n",
       "<table border=\"1\" class=\"dataframe\">\n",
       "  <thead>\n",
       "    <tr style=\"text-align: right;\">\n",
       "      <th></th>\n",
       "      <th>Missing Values</th>\n",
       "      <th>% of Total Values</th>\n",
       "    </tr>\n",
       "  </thead>\n",
       "  <tbody>\n",
       "  </tbody>\n",
       "</table>\n",
       "</div>"
      ],
      "text/plain": [
       "Empty DataFrame\n",
       "Columns: [Missing Values, % of Total Values]\n",
       "Index: []"
      ]
     },
     "execution_count": 17,
     "metadata": {},
     "output_type": "execute_result"
    }
   ],
   "source": [
    "missing_values_table(df_cons)"
   ]
  },
  {
   "cell_type": "code",
   "execution_count": 18,
   "metadata": {},
   "outputs": [
    {
     "name": "stdout",
     "output_type": "stream",
     "text": [
      "Your selected dataframe has 14 columns.\n",
      "There are 1 columns that have missing values.\n"
     ]
    },
    {
     "data": {
      "text/html": [
       "<div>\n",
       "<style scoped>\n",
       "    .dataframe tbody tr th:only-of-type {\n",
       "        vertical-align: middle;\n",
       "    }\n",
       "\n",
       "    .dataframe tbody tr th {\n",
       "        vertical-align: top;\n",
       "    }\n",
       "\n",
       "    .dataframe thead th {\n",
       "        text-align: right;\n",
       "    }\n",
       "</style>\n",
       "<table border=\"1\" class=\"dataframe\">\n",
       "  <thead>\n",
       "    <tr style=\"text-align: right;\">\n",
       "      <th></th>\n",
       "      <th>Missing Values</th>\n",
       "      <th>% of Total Values</th>\n",
       "    </tr>\n",
       "  </thead>\n",
       "  <tbody>\n",
       "    <tr>\n",
       "      <th>Churn Status</th>\n",
       "      <td>289</td>\n",
       "      <td>100.0</td>\n",
       "    </tr>\n",
       "  </tbody>\n",
       "</table>\n",
       "</div>"
      ],
      "text/plain": [
       "              Missing Values  % of Total Values\n",
       "Churn Status             289              100.0"
      ]
     },
     "execution_count": 18,
     "metadata": {},
     "output_type": "execute_result"
    }
   ],
   "source": [
    "missing_values_table(df_explo)"
   ]
  },
  {
   "cell_type": "markdown",
   "metadata": {},
   "source": [
    "# EDA"
   ]
  },
  {
   "cell_type": "markdown",
   "metadata": {},
   "source": [
    "## Primeras visualizaciones\n",
    "Visualicemos todas las variables. Para ello hacemos histogramas y diagramas de cajas (boxplot).\n",
    "Podemos observar que, si bien la variable chas de tipo numérico en realidad tiene tan sólo dos valores.\n"
   ]
  },
  {
   "cell_type": "code",
   "execution_count": 19,
   "metadata": {},
   "outputs": [
    {
     "data": {
      "image/png": "[encoded data removed]",
      "text/plain": [
       "<Figure size 1440x1440 with 12 Axes>"
      ]
     },
     "metadata": {
      "needs_background": "light"
     },
     "output_type": "display_data"
    }
   ],
   "source": [
    "df_cons.hist(bins = 20, figsize = (20,20), color = '#CA3532')\n",
    "plt.show()"
   ]
  },
  {
   "cell_type": "code",
   "execution_count": 20,
   "metadata": {},
   "outputs": [
    {
     "data": {
      "image/png": "[encoded data removed]",
      "text/plain": [
       "<Figure size 1440x1440 with 12 Axes>"
      ]
     },
     "metadata": {
      "needs_background": "light"
     },
     "output_type": "display_data"
    }
   ],
   "source": [
    "df_explo.hist(bins = 20, figsize = (20,20), color = 'blue')\n",
    "plt.show()"
   ]
  },
  {
   "cell_type": "markdown",
   "metadata": {},
   "source": [
    "Función para dibujar los histogramas y los boxplots a la vez"
   ]
  },
  {
   "cell_type": "code",
   "execution_count": 21,
   "metadata": {},
   "outputs": [],
   "source": [
    " def hist_box_plot(df): \n",
    "    num_var_a_graficar = 12\n",
    "\n",
    "    plt.figure(figsize=(15,40))\n",
    "    for i, var in enumerate(np.sort(df.columns[:num_var_a_graficar])):\n",
    "        plt.subplot(df.columns.shape[0],2,2*i+1)\n",
    "        plt.boxplot(df[var], vert=False)\n",
    "        plt.xlabel('')\n",
    "        plt.title(var)\n",
    "        plt.subplot(df.columns.shape[0],2,2*i+2)\n",
    "        plt.hist(df2[var], bins = 20)\n",
    "        plt.xlabel('')\n",
    "        plt.title(var)"
   ]
  },
  {
   "cell_type": "code",
   "execution_count": 22,
   "metadata": {},
   "outputs": [
    {
     "data": {
      "image/png": "[encoded data removed]",
      "text/plain": [
       "<Figure size 1080x2880 with 12 Axes>"
      ]
     },
     "metadata": {
      "needs_background": "light"
     },
     "output_type": "display_data"
    }
   ],
   "source": [
    "df=df_cons\n",
    "clases = np.unique(df[\"Churn Status\"])\n",
    "cols = list(df.columns)\n",
    "cols.remove(\"Churn Status\")\n",
    "cols.remove(\"Customer ID\")\n",
    "\n",
    "plt.figure(figsize=(15,40))\n",
    "\n",
    "for i,col in enumerate(cols):\n",
    "    plt.subplot(11,3,i+1)\n",
    "    if (len(np.unique(df[col]))>2) and (type(df[col][0]) != str):\n",
    "        for c in clases:\n",
    "            sns.distplot(df[df[\"Churn Status\"]==c][col], hist=False, kde=True,\n",
    "                         kde_kws = {'shade': True, 'linewidth': 1}, \n",
    "                         label = c)\n",
    "    else:\n",
    "        sns.countplot(x=col, hue=\"Churn Status\", data=df)"
   ]
  },
  {
   "cell_type": "markdown",
   "metadata": {},
   "source": [
    "## MATRIZ DE CORRELACIÓN"
   ]
  },
  {
   "cell_type": "markdown",
   "metadata": {},
   "source": [
    "Estudiamos la correlación entre las variables. Si una variable está muy correlada con otra significa que nos están dando la misma información por lo que podemos deshacernos de una"
   ]
  },
  {
   "cell_type": "code",
   "execution_count": 23,
   "metadata": {},
   "outputs": [
    {
     "data": {
      "image/png": "[encoded data removed]",
      "text/plain": [
       "<Figure size 1080x864 with 2 Axes>"
      ]
     },
     "metadata": {
      "needs_background": "light"
     },
     "output_type": "display_data"
    }
   ],
   "source": [
    "cm = df_cons.corr()\n",
    "f, ax = plt.subplots(figsize=(15, 12))\n",
    "sns.set(font_scale = 1)\n",
    "hm = sns.heatmap(cm, cbar=True,annot=True, square=True, fmt='.2f')\n",
    "plt.show()"
   ]
  },
  {
   "cell_type": "markdown",
   "metadata": {},
   "source": [
    "Como podemos observar las variables \"network age\" y \"customer tenure in month\" están totalmente correladas, lo cual tiene sentido ya que nos están dando la misma información, una en meses y la otra en años. Por lo tanto, eliminiamos una."
   ]
  },
  {
   "cell_type": "code",
   "execution_count": 24,
   "metadata": {},
   "outputs": [],
   "source": [
    "df_cons=df_cons.drop([\"network_age\"],axis=1)"
   ]
  },
  {
   "cell_type": "code",
   "execution_count": 25,
   "metadata": {},
   "outputs": [],
   "source": [
    "df_explo=df_explo.drop([\"network_age\"],axis=1)"
   ]
  },
  {
   "cell_type": "code",
   "execution_count": 26,
   "metadata": {},
   "outputs": [
    {
     "data": {
      "text/plain": [
       "Customer ID                                     object\n",
       "Customer tenure in month                       float64\n",
       "Total Spend in Months 1 and 2 of 2017          float64\n",
       "Total SMS Spend                                float64\n",
       "Total Data Spend                               float64\n",
       "Total Data Consumption                         float64\n",
       "Total Unique Calls                               int64\n",
       "Total Onnet spend                                int64\n",
       "Total Offnet spend                               int64\n",
       "Total Call centre complaint calls                int64\n",
       "Most Loved Competitor network in in Month 1     object\n",
       "Most Loved Competitor network in in Month 2     object\n",
       "Churn Status                                     int64\n",
       "dtype: object"
      ]
     },
     "execution_count": 26,
     "metadata": {},
     "output_type": "execute_result"
    }
   ],
   "source": [
    "df_cons.dtypes"
   ]
  },
  {
   "cell_type": "code",
   "execution_count": 27,
   "metadata": {},
   "outputs": [
    {
     "data": {
      "text/plain": [
       "Customer ID                                     object\n",
       "Customer tenure in month                       float64\n",
       "Total Spend in Months 1 and 2 of 2017          float64\n",
       "Total SMS Spend                                float64\n",
       "Total Data Spend                               float64\n",
       "Total Data Consumption                         float64\n",
       "Total Unique Calls                               int64\n",
       "Total Onnet spend                                int64\n",
       "Total Offnet spend                               int64\n",
       "Total Call centre complaint calls                int64\n",
       "Most Loved Competitor network in in Month 1     object\n",
       "Most Loved Competitor network in in Month 2     object\n",
       "Churn Status                                   float64\n",
       "dtype: object"
      ]
     },
     "execution_count": 27,
     "metadata": {},
     "output_type": "execute_result"
    }
   ],
   "source": [
    "df_explo.dtypes"
   ]
  },
  {
   "cell_type": "code",
   "execution_count": 28,
   "metadata": {},
   "outputs": [
    {
     "data": {
      "text/html": [
       "<div>\n",
       "<style scoped>\n",
       "    .dataframe tbody tr th:only-of-type {\n",
       "        vertical-align: middle;\n",
       "    }\n",
       "\n",
       "    .dataframe tbody tr th {\n",
       "        vertical-align: top;\n",
       "    }\n",
       "\n",
       "    .dataframe thead th {\n",
       "        text-align: right;\n",
       "    }\n",
       "</style>\n",
       "<table border=\"1\" class=\"dataframe\">\n",
       "  <thead>\n",
       "    <tr style=\"text-align: right;\">\n",
       "      <th></th>\n",
       "      <th>Customer ID</th>\n",
       "      <th>Customer tenure in month</th>\n",
       "      <th>Total Spend in Months 1 and 2 of 2017</th>\n",
       "      <th>Total SMS Spend</th>\n",
       "      <th>Total Data Spend</th>\n",
       "      <th>Total Data Consumption</th>\n",
       "      <th>Total Unique Calls</th>\n",
       "      <th>Total Onnet spend</th>\n",
       "      <th>Total Offnet spend</th>\n",
       "      <th>Total Call centre complaint calls</th>\n",
       "      <th>Most Loved Competitor network in in Month 1</th>\n",
       "      <th>Most Loved Competitor network in in Month 2</th>\n",
       "      <th>Churn Status</th>\n",
       "    </tr>\n",
       "  </thead>\n",
       "  <tbody>\n",
       "    <tr>\n",
       "      <th>0</th>\n",
       "      <td>ADF0039</td>\n",
       "      <td>4.10</td>\n",
       "      <td>76.7140</td>\n",
       "      <td>0.00</td>\n",
       "      <td>1.25</td>\n",
       "      <td>1.4951</td>\n",
       "      <td>14</td>\n",
       "      <td>564</td>\n",
       "      <td>6408</td>\n",
       "      <td>2</td>\n",
       "      <td>Uxaa</td>\n",
       "      <td>Mango</td>\n",
       "      <td>0</td>\n",
       "    </tr>\n",
       "    <tr>\n",
       "      <th>1</th>\n",
       "      <td>ADF0041</td>\n",
       "      <td>43.87</td>\n",
       "      <td>98.8904</td>\n",
       "      <td>4.14</td>\n",
       "      <td>1.25</td>\n",
       "      <td>1.0244</td>\n",
       "      <td>27</td>\n",
       "      <td>1626</td>\n",
       "      <td>4373</td>\n",
       "      <td>1</td>\n",
       "      <td>Uxaa</td>\n",
       "      <td>Mango</td>\n",
       "      <td>0</td>\n",
       "    </tr>\n",
       "    <tr>\n",
       "      <th>2</th>\n",
       "      <td>ADF0051</td>\n",
       "      <td>79.50</td>\n",
       "      <td>372.6300</td>\n",
       "      <td>3.51</td>\n",
       "      <td>1.25</td>\n",
       "      <td>6.0898</td>\n",
       "      <td>119</td>\n",
       "      <td>10411</td>\n",
       "      <td>22039</td>\n",
       "      <td>1</td>\n",
       "      <td>Weematel</td>\n",
       "      <td>Mango</td>\n",
       "      <td>0</td>\n",
       "    </tr>\n",
       "  </tbody>\n",
       "</table>\n",
       "</div>"
      ],
      "text/plain": [
       "  Customer ID  Customer tenure in month  \\\n",
       "0     ADF0039                      4.10   \n",
       "1     ADF0041                     43.87   \n",
       "2     ADF0051                     79.50   \n",
       "\n",
       "   Total Spend in Months 1 and 2 of 2017  Total SMS Spend  Total Data Spend  \\\n",
       "0                                76.7140             0.00              1.25   \n",
       "1                                98.8904             4.14              1.25   \n",
       "2                               372.6300             3.51              1.25   \n",
       "\n",
       "   Total Data Consumption  Total Unique Calls  Total Onnet spend  \\\n",
       "0                  1.4951                  14                564   \n",
       "1                  1.0244                  27               1626   \n",
       "2                  6.0898                 119              10411   \n",
       "\n",
       "   Total Offnet spend  Total Call centre complaint calls  \\\n",
       "0                6408                                  2   \n",
       "1                4373                                  1   \n",
       "2               22039                                  1   \n",
       "\n",
       "  Most Loved Competitor network in in Month 1  \\\n",
       "0                                        Uxaa   \n",
       "1                                        Uxaa   \n",
       "2                                    Weematel   \n",
       "\n",
       "  Most Loved Competitor network in in Month 2  Churn Status  \n",
       "0                                       Mango             0  \n",
       "1                                       Mango             0  \n",
       "2                                       Mango             0  "
      ]
     },
     "execution_count": 28,
     "metadata": {},
     "output_type": "execute_result"
    }
   ],
   "source": [
    "df_cons[:3]"
   ]
  },
  {
   "cell_type": "code",
   "execution_count": 29,
   "metadata": {},
   "outputs": [
    {
     "data": {
      "text/html": [
       "<div>\n",
       "<style scoped>\n",
       "    .dataframe tbody tr th:only-of-type {\n",
       "        vertical-align: middle;\n",
       "    }\n",
       "\n",
       "    .dataframe tbody tr th {\n",
       "        vertical-align: top;\n",
       "    }\n",
       "\n",
       "    .dataframe thead th {\n",
       "        text-align: right;\n",
       "    }\n",
       "</style>\n",
       "<table border=\"1\" class=\"dataframe\">\n",
       "  <thead>\n",
       "    <tr style=\"text-align: right;\">\n",
       "      <th></th>\n",
       "      <th>Customer ID</th>\n",
       "      <th>Customer tenure in month</th>\n",
       "      <th>Total Spend in Months 1 and 2 of 2017</th>\n",
       "      <th>Total SMS Spend</th>\n",
       "      <th>Total Data Spend</th>\n",
       "      <th>Total Data Consumption</th>\n",
       "      <th>Total Unique Calls</th>\n",
       "      <th>Total Onnet spend</th>\n",
       "      <th>Total Offnet spend</th>\n",
       "      <th>Total Call centre complaint calls</th>\n",
       "      <th>Most Loved Competitor network in in Month 1</th>\n",
       "      <th>Most Loved Competitor network in in Month 2</th>\n",
       "      <th>Churn Status</th>\n",
       "    </tr>\n",
       "  </thead>\n",
       "  <tbody>\n",
       "    <tr>\n",
       "      <th>0</th>\n",
       "      <td>ADF1330</td>\n",
       "      <td>29.60</td>\n",
       "      <td>878.65</td>\n",
       "      <td>8.76</td>\n",
       "      <td>47.50</td>\n",
       "      <td>115805.2080</td>\n",
       "      <td>237</td>\n",
       "      <td>16570</td>\n",
       "      <td>19751</td>\n",
       "      <td>1</td>\n",
       "      <td>Weematel</td>\n",
       "      <td>Uxaa</td>\n",
       "      <td>NaN</td>\n",
       "    </tr>\n",
       "    <tr>\n",
       "      <th>1</th>\n",
       "      <td>ADF1331</td>\n",
       "      <td>4.00</td>\n",
       "      <td>878.72</td>\n",
       "      <td>294.00</td>\n",
       "      <td>6.25</td>\n",
       "      <td>696816.2705</td>\n",
       "      <td>77</td>\n",
       "      <td>2208</td>\n",
       "      <td>419</td>\n",
       "      <td>3</td>\n",
       "      <td>Mango</td>\n",
       "      <td>Uxaa</td>\n",
       "      <td>NaN</td>\n",
       "    </tr>\n",
       "    <tr>\n",
       "      <th>2</th>\n",
       "      <td>ADF1345</td>\n",
       "      <td>126.97</td>\n",
       "      <td>898.49</td>\n",
       "      <td>15.75</td>\n",
       "      <td>0.00</td>\n",
       "      <td>464885.6963</td>\n",
       "      <td>308</td>\n",
       "      <td>762</td>\n",
       "      <td>6850</td>\n",
       "      <td>2</td>\n",
       "      <td>PQza</td>\n",
       "      <td>Uxaa</td>\n",
       "      <td>NaN</td>\n",
       "    </tr>\n",
       "  </tbody>\n",
       "</table>\n",
       "</div>"
      ],
      "text/plain": [
       "  Customer ID  Customer tenure in month  \\\n",
       "0     ADF1330                     29.60   \n",
       "1     ADF1331                      4.00   \n",
       "2     ADF1345                    126.97   \n",
       "\n",
       "   Total Spend in Months 1 and 2 of 2017  Total SMS Spend  Total Data Spend  \\\n",
       "0                                 878.65             8.76             47.50   \n",
       "1                                 878.72           294.00              6.25   \n",
       "2                                 898.49            15.75              0.00   \n",
       "\n",
       "   Total Data Consumption  Total Unique Calls  Total Onnet spend  \\\n",
       "0             115805.2080                 237              16570   \n",
       "1             696816.2705                  77               2208   \n",
       "2             464885.6963                 308                762   \n",
       "\n",
       "   Total Offnet spend  Total Call centre complaint calls  \\\n",
       "0               19751                                  1   \n",
       "1                 419                                  3   \n",
       "2                6850                                  2   \n",
       "\n",
       "  Most Loved Competitor network in in Month 1  \\\n",
       "0                                    Weematel   \n",
       "1                                       Mango   \n",
       "2                                        PQza   \n",
       "\n",
       "  Most Loved Competitor network in in Month 2  Churn Status  \n",
       "0                                        Uxaa           NaN  \n",
       "1                                        Uxaa           NaN  \n",
       "2                                        Uxaa           NaN  "
      ]
     },
     "execution_count": 29,
     "metadata": {},
     "output_type": "execute_result"
    }
   ],
   "source": [
    "df_explo[:3]"
   ]
  },
  {
   "cell_type": "markdown",
   "metadata": {},
   "source": [
    "Elimino los valores negativos de la variable Customer tenure in month"
   ]
  },
  {
   "cell_type": "code",
   "execution_count": 30,
   "metadata": {},
   "outputs": [
    {
     "data": {
      "text/plain": [
       "2"
      ]
     },
     "execution_count": 30,
     "metadata": {},
     "output_type": "execute_result"
    }
   ],
   "source": [
    "sum(df_cons[\"Customer tenure in month\"]<0)"
   ]
  },
  {
   "cell_type": "code",
   "execution_count": 31,
   "metadata": {},
   "outputs": [],
   "source": [
    "df_cons=df_cons[df_cons[\"Customer tenure in month\"]>=0]"
   ]
  },
  {
   "cell_type": "code",
   "execution_count": 32,
   "metadata": {},
   "outputs": [
    {
     "data": {
      "text/plain": [
       "0"
      ]
     },
     "execution_count": 32,
     "metadata": {},
     "output_type": "execute_result"
    }
   ],
   "source": [
    "sum(df_cons[\"Customer tenure in month\"]<0)"
   ]
  },
  {
   "cell_type": "code",
   "execution_count": 33,
   "metadata": {},
   "outputs": [
    {
     "data": {
      "text/plain": [
       "1"
      ]
     },
     "execution_count": 33,
     "metadata": {},
     "output_type": "execute_result"
    }
   ],
   "source": [
    "sum(df_explo[\"Customer tenure in month\"]<0)"
   ]
  },
  {
   "cell_type": "code",
   "execution_count": 34,
   "metadata": {},
   "outputs": [],
   "source": [
    "df_explo=df_explo[df_explo[\"Customer tenure in month\"]>=0]"
   ]
  },
  {
   "cell_type": "code",
   "execution_count": 35,
   "metadata": {},
   "outputs": [
    {
     "data": {
      "text/plain": [
       "0"
      ]
     },
     "execution_count": 35,
     "metadata": {},
     "output_type": "execute_result"
    }
   ],
   "source": [
    "sum(df_explo[\"Customer tenure in month\"]<0)"
   ]
  },
  {
   "cell_type": "markdown",
   "metadata": {},
   "source": [
    "## Creación de variables dummies"
   ]
  },
  {
   "cell_type": "markdown",
   "metadata": {},
   "source": [
    "Lo primero que hacemos es sacar el ID del data frame ya que sino me crearía tantas variables dummies como IDs y en este caso esa variable no me ayuda. La guardo ya que luego la necesitaré para el reporting"
   ]
  },
  {
   "cell_type": "code",
   "execution_count": 36,
   "metadata": {},
   "outputs": [],
   "source": [
    "IDs_explo = df_explo[\"Customer ID\"].copy()"
   ]
  },
  {
   "cell_type": "code",
   "execution_count": 37,
   "metadata": {},
   "outputs": [],
   "source": [
    "df_cons = df_cons.drop(\"Customer ID\", axis=1)"
   ]
  },
  {
   "cell_type": "code",
   "execution_count": 38,
   "metadata": {},
   "outputs": [],
   "source": [
    "df_explo = df_explo.drop(\"Customer ID\", axis=1)"
   ]
  },
  {
   "cell_type": "code",
   "execution_count": 39,
   "metadata": {},
   "outputs": [],
   "source": [
    "df_cons_num = pd.get_dummies(df_cons, drop_first=True)\n",
    "df_explo_num = pd.get_dummies(df_explo, drop_first=True)"
   ]
  },
  {
   "cell_type": "markdown",
   "metadata": {},
   "source": [
    "Compruebo que las variables de los dos df coinciden"
   ]
  },
  {
   "cell_type": "code",
   "execution_count": 40,
   "metadata": {},
   "outputs": [
    {
     "data": {
      "text/plain": [
       "array([ True,  True,  True,  True,  True,  True,  True,  True,  True,\n",
       "        True,  True,  True,  True,  True,  True,  True,  True,  True,\n",
       "        True,  True,  True])"
      ]
     },
     "execution_count": 40,
     "metadata": {},
     "output_type": "execute_result"
    }
   ],
   "source": [
    "df_cons_num.columns == df_explo_num.columns"
   ]
  },
  {
   "cell_type": "markdown",
   "metadata": {},
   "source": [
    "## MODELO"
   ]
  },
  {
   "cell_type": "code",
   "execution_count": 41,
   "metadata": {},
   "outputs": [],
   "source": [
    "from sklearn.ensemble import RandomForestClassifier\n",
    "from sklearn.model_selection import train_test_split"
   ]
  },
  {
   "cell_type": "code",
   "execution_count": 42,
   "metadata": {},
   "outputs": [],
   "source": [
    "import pandas as pd\n",
    "\n",
    "from sklearn.model_selection import GridSearchCV\n",
    "from sklearn.metrics         import accuracy_score\n",
    "from sklearn.metrics         import classification_report\n",
    "from sklearn.metrics         import confusion_matrix\n",
    "\n",
    "def doGridSearch(model, grid, scores, X_train, y_train, X_test, y_test, columns, indices):\n",
    "    for score in scores:\n",
    "        print(\"# Tuning hyper-parameters for %s\" % score)\n",
    "        print()\n",
    "#en el cv se puede pasar también un objeto de tipo cv\n",
    "#el 10 es un valor estándar que tienes un compromiso bastante justo\n",
    "#scoring le dices que métrica escoges\n",
    "#Si quisiera hacerlo random\n",
    "#randomizedSearchCV en del grid para que sea aleatorio en lugar de la rejilla\n",
    "        clf=GridSearchCV(model, grid, cv=10, scoring='%s' % score)\n",
    "        clf.fit(X_train, y_train)\n",
    "\n",
    "        print(\"Best parameters set found on development set:\")\n",
    "        print()\n",
    "        print(clf.best_params_)\n",
    "        print()\n",
    "        print(\"Grid scores on development set:\")\n",
    "        print()\n",
    "\n",
    "        means=clf.cv_results_['mean_test_score']\n",
    "        stds =clf.cv_results_['std_test_score']\n",
    "\n",
    "        for mean, std, params in zip(means, stds, clf.cv_results_['params']):\n",
    "            print(\"%0.3f (+/-%0.03f) for %r\" % (mean, std * 2, params))\n",
    "        print()\n",
    "\n",
    "        print(\"Detailed classification report:\")\n",
    "        print()\n",
    "        print(\"The model is trained on the full development set.\")\n",
    "        print(\"The scores are computed on the full evaluation set.\")\n",
    "        print()\n",
    "        y_true, y_pred = y_test, clf.predict(X_test)\n",
    "        print(classification_report(y_true, y_pred))\n",
    "        print()\n",
    "\n",
    "        conf=pd.DataFrame(\n",
    "            confusion_matrix(y_test, y_pred),\n",
    "            columns=columns,\n",
    "            index  =indices\n",
    "        )\n",
    "        print(conf)\n",
    "        \n",
    "        return clf.best_estimator_\n",
    "    #devuelve el mejor modelo de los que ha probado"
   ]
  },
  {
   "cell_type": "code",
   "execution_count": 43,
   "metadata": {},
   "outputs": [],
   "source": [
    "from sklearn.model_selection import train_test_split\n",
    "\n",
    "X_cons = df_cons_num.drop(\"Churn Status\", axis=1).values\n",
    "y_cons = df_cons_num[\"Churn Status\"].values"
   ]
  },
  {
   "cell_type": "code",
   "execution_count": 44,
   "metadata": {},
   "outputs": [],
   "source": [
    "X_train, X_test, y_train, y_test=train_test_split(X_cons, y_cons, test_size=0.3, random_state=1)"
   ]
  },
  {
   "cell_type": "code",
   "execution_count": 45,
   "metadata": {},
   "outputs": [
    {
     "data": {
      "text/plain": [
       "((775, 20), (333, 20), (775,), (333,))"
      ]
     },
     "execution_count": 45,
     "metadata": {},
     "output_type": "execute_result"
    }
   ],
   "source": [
    "X_train.shape, X_test.shape, y_train.shape, y_test.shape"
   ]
  },
  {
   "cell_type": "markdown",
   "metadata": {},
   "source": [
    "### DECISION TREE CLASSIFIER"
   ]
  },
  {
   "cell_type": "code",
   "execution_count": 46,
   "metadata": {},
   "outputs": [
    {
     "data": {
      "text/plain": [
       "DecisionTreeClassifier(ccp_alpha=0.0, class_weight=None, criterion='gini',\n",
       "                       max_depth=None, max_features=None, max_leaf_nodes=None,\n",
       "                       min_impurity_decrease=0.0, min_impurity_split=None,\n",
       "                       min_samples_leaf=1, min_samples_split=2,\n",
       "                       min_weight_fraction_leaf=0.0, presort='deprecated',\n",
       "                       random_state=None, splitter='best')"
      ]
     },
     "execution_count": 46,
     "metadata": {},
     "output_type": "execute_result"
    }
   ],
   "source": [
    "from sklearn.tree import DecisionTreeClassifier\n",
    "\n",
    "tree=DecisionTreeClassifier()\n",
    "tree.fit(X_train, y_train)"
   ]
  },
  {
   "cell_type": "code",
   "execution_count": 47,
   "metadata": {},
   "outputs": [
    {
     "name": "stdout",
     "output_type": "stream",
     "text": [
      "              precision    recall  f1-score   support\n",
      "\n",
      "           0       0.81      0.81      0.81       165\n",
      "           1       0.81      0.81      0.81       168\n",
      "\n",
      "    accuracy                           0.81       333\n",
      "   macro avg       0.81      0.81      0.81       333\n",
      "weighted avg       0.81      0.81      0.81       333\n",
      "\n",
      "          A    B\n",
      "True A  133   32\n",
      "True B   32  136\n"
     ]
    }
   ],
   "source": [
    "from sklearn.metrics import classification_report\n",
    "\n",
    "y_pred=tree.predict(X_test)\n",
    "\n",
    "print(classification_report(y_test, y_pred))\n",
    "\n",
    "conf=pd.DataFrame(\n",
    "    confusion_matrix(y_test, y_pred),\n",
    "    columns=['A', 'B'],\n",
    "    index  =['True A', 'True B']\n",
    ")\n",
    "print(conf)"
   ]
  },
  {
   "cell_type": "markdown",
   "metadata": {},
   "source": [
    "## RANDOM FOREST CLASSIFIER"
   ]
  },
  {
   "cell_type": "code",
   "execution_count": 48,
   "metadata": {},
   "outputs": [
    {
     "data": {
      "text/plain": [
       "RandomForestClassifier(bootstrap=True, ccp_alpha=0.0, class_weight=None,\n",
       "                       criterion='gini', max_depth=7, max_features=None,\n",
       "                       max_leaf_nodes=None, max_samples=None,\n",
       "                       min_impurity_decrease=0.0, min_impurity_split=None,\n",
       "                       min_samples_leaf=1, min_samples_split=2,\n",
       "                       min_weight_fraction_leaf=0.0, n_estimators=1001,\n",
       "                       n_jobs=None, oob_score=False, random_state=None,\n",
       "                       verbose=0, warm_start=False)"
      ]
     },
     "execution_count": 48,
     "metadata": {},
     "output_type": "execute_result"
    }
   ],
   "source": [
    "from sklearn.ensemble import RandomForestClassifier\n",
    "\n",
    "random_forest=RandomForestClassifier(n_estimators=1001, max_depth=7, max_features=None)\n",
    "random_forest.fit(X_train, y_train)"
   ]
  },
  {
   "cell_type": "code",
   "execution_count": 49,
   "metadata": {},
   "outputs": [
    {
     "data": {
      "text/plain": [
       "(0.9483870967741935, 0.8528528528528528)"
      ]
     },
     "execution_count": 49,
     "metadata": {},
     "output_type": "execute_result"
    }
   ],
   "source": [
    "random_forest.score(X_train, y_train), random_forest.score(X_test, y_test)"
   ]
  },
  {
   "cell_type": "code",
   "execution_count": 59,
   "metadata": {},
   "outputs": [],
   "source": [
    "tuned_parameters={'n_estimators': [201, 401, 601, 801, 1001],\n",
    "                  'max_features': ['auto'],\n",
    "                  'max_depth'   : [10, 20, 30, 40, 50, 60, 70, 80, 90, 100]}"
   ]
  },
  {
   "cell_type": "code",
   "execution_count": 60,
   "metadata": {
    "scrolled": false
   },
   "outputs": [
    {
     "name": "stdout",
     "output_type": "stream",
     "text": [
      "# Tuning hyper-parameters for accuracy\n",
      "\n",
      "Best parameters set found on development set:\n",
      "\n",
      "{'max_depth': 30, 'max_features': 'auto', 'n_estimators': 401}\n",
      "\n",
      "Grid scores on development set:\n",
      "\n",
      "0.794 (+/-0.093) for {'max_depth': 10, 'max_features': 'auto', 'n_estimators': 201}\n",
      "0.791 (+/-0.075) for {'max_depth': 10, 'max_features': 'auto', 'n_estimators': 401}\n",
      "0.796 (+/-0.081) for {'max_depth': 10, 'max_features': 'auto', 'n_estimators': 601}\n",
      "0.795 (+/-0.097) for {'max_depth': 10, 'max_features': 'auto', 'n_estimators': 801}\n",
      "0.796 (+/-0.085) for {'max_depth': 10, 'max_features': 'auto', 'n_estimators': 1001}\n",
      "0.800 (+/-0.077) for {'max_depth': 20, 'max_features': 'auto', 'n_estimators': 201}\n",
      "0.794 (+/-0.091) for {'max_depth': 20, 'max_features': 'auto', 'n_estimators': 401}\n",
      "0.796 (+/-0.070) for {'max_depth': 20, 'max_features': 'auto', 'n_estimators': 601}\n",
      "0.792 (+/-0.095) for {'max_depth': 20, 'max_features': 'auto', 'n_estimators': 801}\n",
      "0.794 (+/-0.087) for {'max_depth': 20, 'max_features': 'auto', 'n_estimators': 1001}\n",
      "0.787 (+/-0.088) for {'max_depth': 30, 'max_features': 'auto', 'n_estimators': 201}\n",
      "0.805 (+/-0.072) for {'max_depth': 30, 'max_features': 'auto', 'n_estimators': 401}\n",
      "0.798 (+/-0.084) for {'max_depth': 30, 'max_features': 'auto', 'n_estimators': 601}\n",
      "0.794 (+/-0.075) for {'max_depth': 30, 'max_features': 'auto', 'n_estimators': 801}\n",
      "0.795 (+/-0.079) for {'max_depth': 30, 'max_features': 'auto', 'n_estimators': 1001}\n",
      "0.799 (+/-0.084) for {'max_depth': 40, 'max_features': 'auto', 'n_estimators': 201}\n",
      "0.798 (+/-0.082) for {'max_depth': 40, 'max_features': 'auto', 'n_estimators': 401}\n",
      "0.792 (+/-0.076) for {'max_depth': 40, 'max_features': 'auto', 'n_estimators': 601}\n",
      "0.794 (+/-0.076) for {'max_depth': 40, 'max_features': 'auto', 'n_estimators': 801}\n",
      "0.794 (+/-0.084) for {'max_depth': 40, 'max_features': 'auto', 'n_estimators': 1001}\n",
      "0.789 (+/-0.084) for {'max_depth': 50, 'max_features': 'auto', 'n_estimators': 201}\n",
      "0.796 (+/-0.084) for {'max_depth': 50, 'max_features': 'auto', 'n_estimators': 401}\n",
      "0.794 (+/-0.084) for {'max_depth': 50, 'max_features': 'auto', 'n_estimators': 601}\n",
      "0.792 (+/-0.095) for {'max_depth': 50, 'max_features': 'auto', 'n_estimators': 801}\n",
      "0.796 (+/-0.085) for {'max_depth': 50, 'max_features': 'auto', 'n_estimators': 1001}\n",
      "0.794 (+/-0.084) for {'max_depth': 60, 'max_features': 'auto', 'n_estimators': 201}\n",
      "0.798 (+/-0.100) for {'max_depth': 60, 'max_features': 'auto', 'n_estimators': 401}\n",
      "0.791 (+/-0.084) for {'max_depth': 60, 'max_features': 'auto', 'n_estimators': 601}\n",
      "0.794 (+/-0.082) for {'max_depth': 60, 'max_features': 'auto', 'n_estimators': 801}\n",
      "0.790 (+/-0.081) for {'max_depth': 60, 'max_features': 'auto', 'n_estimators': 1001}\n",
      "0.791 (+/-0.090) for {'max_depth': 70, 'max_features': 'auto', 'n_estimators': 201}\n",
      "0.794 (+/-0.088) for {'max_depth': 70, 'max_features': 'auto', 'n_estimators': 401}\n",
      "0.791 (+/-0.095) for {'max_depth': 70, 'max_features': 'auto', 'n_estimators': 601}\n",
      "0.790 (+/-0.089) for {'max_depth': 70, 'max_features': 'auto', 'n_estimators': 801}\n",
      "0.796 (+/-0.088) for {'max_depth': 70, 'max_features': 'auto', 'n_estimators': 1001}\n",
      "0.795 (+/-0.068) for {'max_depth': 80, 'max_features': 'auto', 'n_estimators': 201}\n",
      "0.789 (+/-0.094) for {'max_depth': 80, 'max_features': 'auto', 'n_estimators': 401}\n",
      "0.796 (+/-0.087) for {'max_depth': 80, 'max_features': 'auto', 'n_estimators': 601}\n",
      "0.796 (+/-0.067) for {'max_depth': 80, 'max_features': 'auto', 'n_estimators': 801}\n",
      "0.792 (+/-0.080) for {'max_depth': 80, 'max_features': 'auto', 'n_estimators': 1001}\n",
      "0.795 (+/-0.093) for {'max_depth': 90, 'max_features': 'auto', 'n_estimators': 201}\n",
      "0.792 (+/-0.084) for {'max_depth': 90, 'max_features': 'auto', 'n_estimators': 401}\n",
      "0.795 (+/-0.099) for {'max_depth': 90, 'max_features': 'auto', 'n_estimators': 601}\n",
      "0.794 (+/-0.073) for {'max_depth': 90, 'max_features': 'auto', 'n_estimators': 801}\n",
      "0.799 (+/-0.076) for {'max_depth': 90, 'max_features': 'auto', 'n_estimators': 1001}\n",
      "0.789 (+/-0.072) for {'max_depth': 100, 'max_features': 'auto', 'n_estimators': 201}\n",
      "0.796 (+/-0.070) for {'max_depth': 100, 'max_features': 'auto', 'n_estimators': 401}\n",
      "0.798 (+/-0.085) for {'max_depth': 100, 'max_features': 'auto', 'n_estimators': 601}\n",
      "0.790 (+/-0.087) for {'max_depth': 100, 'max_features': 'auto', 'n_estimators': 801}\n",
      "0.791 (+/-0.076) for {'max_depth': 100, 'max_features': 'auto', 'n_estimators': 1001}\n",
      "\n",
      "Detailed classification report:\n",
      "\n",
      "The model is trained on the full development set.\n",
      "The scores are computed on the full evaluation set.\n",
      "\n",
      "              precision    recall  f1-score   support\n",
      "\n",
      "           0       0.83      0.87      0.85       165\n",
      "           1       0.87      0.82      0.84       168\n",
      "\n",
      "    accuracy                           0.85       333\n",
      "   macro avg       0.85      0.85      0.85       333\n",
      "weighted avg       0.85      0.85      0.85       333\n",
      "\n",
      "\n",
      "          A    B\n",
      "True A  144   21\n",
      "True B   30  138\n"
     ]
    },
    {
     "data": {
      "text/plain": [
       "RandomForestClassifier(bootstrap=True, ccp_alpha=0.0, class_weight=None,\n",
       "                       criterion='gini', max_depth=30, max_features='auto',\n",
       "                       max_leaf_nodes=None, max_samples=None,\n",
       "                       min_impurity_decrease=0.0, min_impurity_split=None,\n",
       "                       min_samples_leaf=1, min_samples_split=2,\n",
       "                       min_weight_fraction_leaf=0.0, n_estimators=401,\n",
       "                       n_jobs=None, oob_score=False, random_state=None,\n",
       "                       verbose=0, warm_start=False)"
      ]
     },
     "execution_count": 60,
     "metadata": {},
     "output_type": "execute_result"
    }
   ],
   "source": [
    "doGridSearch(RandomForestClassifier(), tuned_parameters, ['accuracy'], X_train, y_train, X_test, y_test, ['A', 'B'], ['True A', 'True B'])"
   ]
  },
  {
   "cell_type": "code",
   "execution_count": 83,
   "metadata": {},
   "outputs": [],
   "source": [
    "model=RandomForestClassifier(n_estimators=401, max_depth=30, max_features=None)"
   ]
  },
  {
   "cell_type": "code",
   "execution_count": 84,
   "metadata": {},
   "outputs": [
    {
     "data": {
      "text/plain": [
       "RandomForestClassifier(bootstrap=True, ccp_alpha=0.0, class_weight=None,\n",
       "                       criterion='gini', max_depth=30, max_features=None,\n",
       "                       max_leaf_nodes=None, max_samples=None,\n",
       "                       min_impurity_decrease=0.0, min_impurity_split=None,\n",
       "                       min_samples_leaf=1, min_samples_split=2,\n",
       "                       min_weight_fraction_leaf=0.0, n_estimators=401,\n",
       "                       n_jobs=None, oob_score=False, random_state=None,\n",
       "                       verbose=0, warm_start=False)"
      ]
     },
     "execution_count": 84,
     "metadata": {},
     "output_type": "execute_result"
    }
   ],
   "source": [
    "model.fit(X_train, y_train)"
   ]
  },
  {
   "cell_type": "code",
   "execution_count": 85,
   "metadata": {},
   "outputs": [
    {
     "data": {
      "text/plain": [
       "(1.0, 0.8528528528528528)"
      ]
     },
     "execution_count": 85,
     "metadata": {},
     "output_type": "execute_result"
    }
   ],
   "source": [
    "model.score(X_train, y_train), model.score(X_test, y_test)"
   ]
  },
  {
   "cell_type": "code",
   "execution_count": 86,
   "metadata": {},
   "outputs": [
    {
     "data": {
      "text/plain": [
       "array([0.58852868, 0.00997506, 0.01745636, 0.82044888, 0.64588529])"
      ]
     },
     "execution_count": 86,
     "metadata": {},
     "output_type": "execute_result"
    }
   ],
   "source": [
    "probs_fuga = model.predict_proba(X_test)[:,1]\n",
    "probs_fuga[:5]"
   ]
  },
  {
   "cell_type": "code",
   "execution_count": 87,
   "metadata": {},
   "outputs": [
    {
     "data": {
      "text/plain": [
       "array([0.14962594, 0.49127182, 0.1521197 , 0.47880299, 0.09476309])"
      ]
     },
     "execution_count": 87,
     "metadata": {},
     "output_type": "execute_result"
    }
   ],
   "source": [
    "X_explo = df_explo_num.drop(\"Churn Status\", axis=1).values\n",
    "probs_fuga_explo = model.predict_proba(X_explo)[:,1]\n",
    "probs_fuga_explo[:5]"
   ]
  },
  {
   "cell_type": "code",
   "execution_count": 88,
   "metadata": {},
   "outputs": [],
   "source": [
    "salida = pd.DataFrame({\"ID\":IDs_explo, \"pfuga\":probs_fuga_explo})\n",
    "\n",
    "salida.sort_values(\"pfuga\", ascending=False)[:100][[\"ID\"]].to_csv(\"salida.csv\", index=False)"
   ]
  },
  {
   "cell_type": "code",
   "execution_count": 58,
   "metadata": {},
   "outputs": [],
   "source": [
    "model2=RandomForestClassifier(n_estimators=51, max_depth=10, max_features=7)"
   ]
  },
  {
   "cell_type": "code",
   "execution_count": 67,
   "metadata": {},
   "outputs": [
    {
     "data": {
      "text/plain": [
       "RandomForestClassifier(bootstrap=True, ccp_alpha=0.0, class_weight=None,\n",
       "                       criterion='gini', max_depth=10, max_features=7,\n",
       "                       max_leaf_nodes=None, max_samples=None,\n",
       "                       min_impurity_decrease=0.0, min_impurity_split=None,\n",
       "                       min_samples_leaf=1, min_samples_split=2,\n",
       "                       min_weight_fraction_leaf=0.0, n_estimators=51,\n",
       "                       n_jobs=None, oob_score=False, random_state=None,\n",
       "                       verbose=0, warm_start=False)"
      ]
     },
     "execution_count": 67,
     "metadata": {},
     "output_type": "execute_result"
    }
   ],
   "source": [
    "model2.fit(X_train, y_train)"
   ]
  },
  {
   "cell_type": "code",
   "execution_count": 68,
   "metadata": {},
   "outputs": [
    {
     "data": {
      "text/plain": [
       "(0.9858064516129033, 0.8468468468468469)"
      ]
     },
     "execution_count": 68,
     "metadata": {},
     "output_type": "execute_result"
    }
   ],
   "source": [
    "model2.score(X_train, y_train), model2.score(X_test, y_test)"
   ]
  },
  {
   "cell_type": "code",
   "execution_count": 57,
   "metadata": {},
   "outputs": [
    {
     "data": {
      "text/plain": [
       "array([0.57042957, 0.01598402, 0.02213171, 0.83316683, 0.64435564])"
      ]
     },
     "execution_count": 57,
     "metadata": {},
     "output_type": "execute_result"
    }
   ],
   "source": [
    "probs_fuga = model2.predict_proba(X_test)[:,1]\n",
    "probs_fuga[:5]"
   ]
  },
  {
   "cell_type": "code",
   "execution_count": 59,
   "metadata": {},
   "outputs": [
    {
     "data": {
      "text/plain": [
       "array([0.18261782, 0.52295324, 0.13701534, 0.44914675, 0.12587066])"
      ]
     },
     "execution_count": 59,
     "metadata": {},
     "output_type": "execute_result"
    }
   ],
   "source": [
    "X_explo = df_explo_num.drop(\"Churn Status\", axis=1).values\n",
    "probs_fuga_explo = model2.predict_proba(X_explo)[:,1]\n",
    "probs_fuga_explo[:5]"
   ]
  },
  {
   "cell_type": "markdown",
   "metadata": {},
   "source": [
    "El problema es que en X_explo tienes 1 columna más que en X_train\n",
    "sobra una columna\n",
    "el ID del cliente?\n"
   ]
  },
  {
   "cell_type": "code",
   "execution_count": 60,
   "metadata": {},
   "outputs": [],
   "source": [
    "salida = pd.DataFrame({\"ID\":IDs_explo, \"pfuga\":probs_fuga_explo})\n",
    "\n",
    "salida.sort_values(\"pfuga\", ascending=False)[:100][[\"ID\"]].to_csv(\"salida2.csv\", index=False)"
   ]
  }
 ],
 "metadata": {
  "kernelspec": {
   "display_name": "Python 3",
   "language": "python",
   "name": "python3"
  },
  "language_info": {
   "codemirror_mode": {
    "name": "ipython",
    "version": 3
   },
   "file_extension": ".py",
   "mimetype": "text/x-python",
   "name": "python",
   "nbconvert_exporter": "python",
   "pygments_lexer": "ipython3",
   "version": "3.7.5"
  }
 },
 "nbformat": 4,
 "nbformat_minor": 2
}
